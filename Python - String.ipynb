{
 "cells": [
  {
   "cell_type": "code",
   "execution_count": 1,
   "id": "06c83203-2f7c-4e28-9d63-421e48591cf6",
   "metadata": {},
   "outputs": [],
   "source": [
    "# Q.1 How can we store a s1ngle quote (‘) as a str1ng 1n a var1able?"
   ]
  },
  {
   "cell_type": "code",
   "execution_count": 2,
   "id": "53888188-4b90-4ebf-811e-f33ae08b6b79",
   "metadata": {},
   "outputs": [],
   "source": [
    "#ans. One way is to use double quotes to define the string and use a single quote character inside the string:"
   ]
  },
  {
   "cell_type": "code",
   "execution_count": 4,
   "id": "bb2ed4d4-42d0-4e47-b3dd-19f7083a8eba",
   "metadata": {},
   "outputs": [],
   "source": [
    "my_var = \"Here's a single quote: '\""
   ]
  },
  {
   "cell_type": "code",
   "execution_count": 7,
   "id": "86e2beb8-b4d9-42c6-b753-16ff79ea6bf8",
   "metadata": {},
   "outputs": [],
   "source": [
    "# Q.2 Refer the below variable:\n",
    "# x = 'a'\n",
    "#Here, is x a character type or string type var1able? Support your answer w1th an explanation."
   ]
  },
  {
   "cell_type": "code",
   "execution_count": 8,
   "id": "d5d41a47-c17e-4fdd-b786-a86c9bc08b23",
   "metadata": {},
   "outputs": [],
   "source": [
    "#ans. Strings are defined using quotes (either single quotes or double quotes). Since x is defined using a single quote and contains a single character a, it is a string variable in Python."
   ]
  },
  {
   "cell_type": "code",
   "execution_count": 11,
   "id": "0a231fe0-b142-4e3b-a455-57d10666918d",
   "metadata": {},
   "outputs": [
    {
     "name": "stdout",
     "output_type": "stream",
     "text": [
      "<class 'str'>\n",
      "a\n"
     ]
    }
   ],
   "source": [
    "# x as a string variable\n",
    "x = 'a'\n",
    "print(type(x))  # Output: <class 'str'>\n",
    "print(x)        # Output: a\n",
    "\n"
   ]
  },
  {
   "cell_type": "code",
   "execution_count": 13,
   "id": "3938cd65-e133-4577-afe5-58a61f848cc6",
   "metadata": {},
   "outputs": [
    {
     "name": "stdout",
     "output_type": "stream",
     "text": [
      "['Welcome', 'to', 'Python', 'foundation', 'course']\n",
      "4\n",
      "6\n",
      "35\n",
      "Welcome to Python foundation course I am enjoying it.\n"
     ]
    }
   ],
   "source": [
    "# Original string\n",
    "s = \"Welcome to Python foundation course\"\n",
    "\n",
    "# Using the split function to split the string by space\n",
    "words = s.split()\n",
    "print(words)  # Output: ['Welcome', 'to', 'Python', 'foundation', 'course']\n",
    "\n",
    "# Using the find function to find the index of the first occurrence of the letter 'o'\n",
    "index = s.find('o')\n",
    "print(index)  # Output: 4\n",
    "\n",
    "# Using the count function to count the number of times the letter 'o' appears in the string\n",
    "count = s.count('o')\n",
    "print(count)  # Output: 4\n",
    "\n",
    "# Using the len function to find the length of the string\n",
    "length = len(s)\n",
    "print(length)  # Output: 33\n",
    "\n",
    "# Using string concatenation to add a new sentence to the original string\n",
    "new_sentence = \"I am enjoying it.\"\n",
    "new_string = s + \" \" + new_sentence\n",
    "print(new_string)  # Output: Welcome to Python foundation course I am enjoying it.\n"
   ]
  },
  {
   "cell_type": "code",
   "execution_count": 24,
   "id": "26209c3d-2831-4a3f-b9de-c789292baabe",
   "metadata": {},
   "outputs": [],
   "source": [
    "#Q4 For the var1able: word = ‘PanaJi@12256'\n",
    "#Calculate the following:\n",
    "#(a) Total number of alphabets in lowercase\n",
    "#(b) Total number of alphabets in uppercase\n",
    "#(c) Total number of numer1cal in string"
   ]
  },
  {
   "cell_type": "code",
   "execution_count": 22,
   "id": "a5b242b4-9d74-4e72-b099-1622c7774513",
   "metadata": {},
   "outputs": [
    {
     "name": "stdout",
     "output_type": "stream",
     "text": [
      "Total number of lowercase alphabets: 4\n",
      "Total number of uppercase alphabets: 2\n",
      "Total number of numerical characters: 5\n"
     ]
    }
   ],
   "source": [
    "# Define the string variable\n",
    "word = 'PanaJi@12256'\n",
    "\n",
    "# Initialize the counters\n",
    "lowercase_count = 0\n",
    "uppercase_count = 0\n",
    "numeric_count = 0\n",
    "\n",
    "# Loop through each character in the string\n",
    "for char in word:\n",
    "    # Check if the character is lowercase alphabet\n",
    "    if char.islower():\n",
    "        lowercase_count += 1\n",
    "    # Check if the character is uppercase alphabet\n",
    "    elif char.isupper():\n",
    "        uppercase_count += 1\n",
    "    # Check if the character is numerical\n",
    "    elif char.isnumeric():\n",
    "        numeric_count += 1\n",
    "\n",
    "# Print the results\n",
    "print(\"Total number of lowercase alphabets:\", lowercase_count)\n",
    "print(\"Total number of uppercase alphabets:\", uppercase_count)\n",
    "print(\"Total number of numerical characters:\", numeric_count)\n"
   ]
  },
  {
   "cell_type": "code",
   "execution_count": null,
   "id": "f06f9c00-4e10-4a40-974b-aaec31a3a369",
   "metadata": {},
   "outputs": [],
   "source": [
    "# Q5 Write a code to store a numerical value inside a variable then convert it into string."
   ]
  }
 ],
 "metadata": {
  "kernelspec": {
   "display_name": "Python 3 (ipykernel)",
   "language": "python",
   "name": "python3"
  },
  "language_info": {
   "codemirror_mode": {
    "name": "ipython",
    "version": 3
   },
   "file_extension": ".py",
   "mimetype": "text/x-python",
   "name": "python",
   "nbconvert_exporter": "python",
   "pygments_lexer": "ipython3",
   "version": "3.10.8"
  }
 },
 "nbformat": 4,
 "nbformat_minor": 5
}
